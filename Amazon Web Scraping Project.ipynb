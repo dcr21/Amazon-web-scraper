{
 "cells": [
  {
   "cell_type": "markdown",
   "id": "ceb171b3",
   "metadata": {},
   "source": [
    "Adding data over time"
   ]
  },
  {
   "cell_type": "code",
   "execution_count": 2,
   "id": "4cda853a",
   "metadata": {},
   "outputs": [],
   "source": [
    "# import libraries\n",
    "\n",
    "from bs4 import BeautifulSoup\n",
    "import requests\n",
    "import smtplib # email self\n",
    "import time\n",
    "import datetime\n"
   ]
  },
  {
   "cell_type": "code",
   "execution_count": 48,
   "id": "fb169966",
   "metadata": {},
   "outputs": [
    {
     "name": "stdout",
     "output_type": "stream",
     "text": [
      "\n",
      "                   THE NORTH FACE unisex-adult Beanie\n",
      "                  \n",
      "\n",
      "\n",
      "\n",
      "\n",
      "\n",
      "                   Price:\n",
      "                  \n",
      "\n",
      "\n",
      "\n",
      "                     $28.95\n",
      "                    \n",
      "\n",
      "                     $28.95\n",
      "                    \n",
      "\n",
      "\n",
      "\n",
      "\n",
      "\n",
      "\n",
      "\n",
      "\n",
      "\n",
      "\n",
      "\n",
      "\n",
      "\n",
      "\n",
      "\n",
      "\n",
      "\n",
      "\n",
      "\n",
      "\n",
      "\n",
      "\n",
      "\n",
      "\n"
     ]
    }
   ],
   "source": [
    "# Connect to website\n",
    "\n",
    "URL = 'https://www.amazon.com/North-Face-Cuffed-Beanie-Black/dp/B07P721PZ2/ref=sr_1_4?keywords=north%2Bface%2Bhats&qid=1653225357&refinements=p_89%3AThe%2BNorth%2BFace&sr=8-4&th=1&psc=1'\n",
    "\n",
    "headers = {\"User-Agent\": \"Mozilla/5.0 (Macintosh; Intel Mac OS X 10_15_7) AppleWebKit/537.36 (KHTML, like Gecko) Chrome/100.0.4896.88 Safari/537.36\", \"Accept-Encoding\":\"gzip, deflate\", \"Accept\":\"text/html,application/xhtml+xml,application/xml;q=0.9,*/*;q=0.8\", \"DNT\":\"1\",\"Connection\":\"close\", \"Upgrade-Insecure-Requests\":\"1\"}\n",
    "\n",
    "page = requests.get(URL, headers=headers)\n",
    "\n",
    "soup1 = BeautifulSoup(page.content, \"html.parser\") # Pulling in all the HTML from the webpage\n",
    "\n",
    "soup2 = BeautifulSoup(soup1.prettify(), 'html.parser') # same but sets it out 'prettier' / more clear\n",
    "\n",
    "#print(soup2)\n",
    "\n",
    "title = soup2.find(id='productTitle').get_text()\n",
    "\n",
    "print(title)\n",
    "\n",
    "price = soup2.find(id='corePrice_desktop').get_text()\n",
    "\n",
    "print(price)"
   ]
  },
  {
   "cell_type": "code",
   "execution_count": 49,
   "id": "02a70ed6",
   "metadata": {},
   "outputs": [
    {
     "name": "stdout",
     "output_type": "stream",
     "text": [
      "THE NORTH FACE unisex-adult Beanie\n",
      "28.95\n"
     ]
    }
   ],
   "source": [
    "price = price.strip()[101:]\n",
    "title = title.strip()\n",
    "\n",
    "print(title)\n",
    "print(price)"
   ]
  },
  {
   "cell_type": "code",
   "execution_count": 47,
   "id": "9e37f95b",
   "metadata": {},
   "outputs": [
    {
     "name": "stdout",
     "output_type": "stream",
     "text": [
      "2022-05-22\n"
     ]
    }
   ],
   "source": [
    "import datetime\n",
    "\n",
    "today = datetime.date.today()\n",
    "\n",
    "print(today)"
   ]
  },
  {
   "cell_type": "code",
   "execution_count": 50,
   "id": "8f7aba9b",
   "metadata": {},
   "outputs": [],
   "source": [
    "# create own csv dataset\n",
    "\n",
    "import csv\n",
    "\n",
    "header = ['Title', 'Price', 'Date']\n",
    "data = [title, price, today]\n",
    "\n",
    "with open('AmazonWebScraperDataset.csv', 'w', newline='', encoding='UTF8') as f:\n",
    "    writer = csv.writer(f) # write the csv\n",
    "    writer.writerow(header) # add the header\n",
    "    writer.writerow(data) # add the data\n",
    "\n",
    "# Re-running this will reset/delete the whole dataset file    "
   ]
  },
  {
   "cell_type": "code",
   "execution_count": 53,
   "id": "500960df",
   "metadata": {},
   "outputs": [
    {
     "name": "stdout",
     "output_type": "stream",
     "text": [
      "                                Title  Price        Date\n",
      "0  THE NORTH FACE unisex-adult Beanie  28.95  2022-05-22\n",
      "1  THE NORTH FACE unisex-adult Beanie  28.95  2022-05-22\n"
     ]
    }
   ],
   "source": [
    "import pandas as pd\n",
    "\n",
    "df = pd.read_csv(r'/Users/davidrichardson/AmazonWebScraperDataset.csv')\n",
    "\n",
    "print(df)"
   ]
  },
  {
   "cell_type": "code",
   "execution_count": 52,
   "id": "3446ed69",
   "metadata": {},
   "outputs": [],
   "source": [
    "# Appending data to the csv\n",
    "\n",
    "with open('AmazonWebScraperDataset.csv', 'a+', newline='', encoding='UTF8') as f:\n",
    "    writer = csv.writer(f) # write the csv\n",
    "    writer.writerow(data) # add the data"
   ]
  },
  {
   "cell_type": "code",
   "execution_count": 54,
   "id": "49807911",
   "metadata": {},
   "outputs": [],
   "source": [
    "# Defining a function called 'Check Price'\n",
    "\n",
    "def check_price():\n",
    "    URL = 'https://www.amazon.com/North-Face-Cuffed-Beanie-Black/dp/B07P721PZ2/ref=sr_1_4?keywords=north%2Bface%2Bhats&qid=1653225357&refinements=p_89%3AThe%2BNorth%2BFace&sr=8-4&th=1&psc=1'\n",
    "\n",
    "    headers = {\"User-Agent\": \"Mozilla/5.0 (Macintosh; Intel Mac OS X 10_15_7) AppleWebKit/537.36 (KHTML, like Gecko) Chrome/100.0.4896.88 Safari/537.36\", \"Accept-Encoding\":\"gzip, deflate\", \"Accept\":\"text/html,application/xhtml+xml,application/xml;q=0.9,*/*;q=0.8\", \"DNT\":\"1\",\"Connection\":\"close\", \"Upgrade-Insecure-Requests\":\"1\"}\n",
    "\n",
    "    page = requests.get(URL, headers=headers)\n",
    "\n",
    "    soup1 = BeautifulSoup(page.content, \"html.parser\") # Pulling in all the HTML from the webpage\n",
    "\n",
    "    soup2 = BeautifulSoup(soup1.prettify(), 'html.parser') # same but sets it out 'prettier' / more clear\n",
    "\n",
    "    title = soup2.find(id='productTitle').get_text()\n",
    "\n",
    "    price = soup2.find(id='corePrice_desktop').get_text()\n",
    "    \n",
    "    price = price.strip()[101:]\n",
    "    title = title.strip()\n",
    "    \n",
    "    import datetime\n",
    "    \n",
    "    today = datetime.date.today()\n",
    "    \n",
    "    header = ['Title', 'Price', 'Date']\n",
    "    data = [title, price, today]\n",
    "    \n",
    "    with open('AmazonWebScraperDataset.csv', 'a+', newline='', encoding='UTF8') as f:\n",
    "        writer = csv.writer(f) # write the csv\n",
    "        writer.writerow(data) # add the data\n",
    "        \n",
    "    if(price < 23)    "
   ]
  },
  {
   "cell_type": "code",
   "execution_count": 55,
   "id": "0fae8dae",
   "metadata": {},
   "outputs": [
    {
     "ename": "KeyboardInterrupt",
     "evalue": "",
     "output_type": "error",
     "traceback": [
      "\u001b[0;31m---------------------------------------------------------------------------\u001b[0m",
      "\u001b[0;31mKeyboardInterrupt\u001b[0m                         Traceback (most recent call last)",
      "\u001b[0;32m/var/folders/d7/q_fznsr95_97r6lp_mx_vp640000gn/T/ipykernel_45366/939823647.py\u001b[0m in \u001b[0;36m<module>\u001b[0;34m\u001b[0m\n\u001b[1;32m      1\u001b[0m \u001b[0;32mwhile\u001b[0m\u001b[0;34m(\u001b[0m\u001b[0;32mTrue\u001b[0m\u001b[0;34m)\u001b[0m\u001b[0;34m:\u001b[0m\u001b[0;34m\u001b[0m\u001b[0;34m\u001b[0m\u001b[0m\n\u001b[1;32m      2\u001b[0m     \u001b[0mcheck_price\u001b[0m\u001b[0;34m(\u001b[0m\u001b[0;34m)\u001b[0m\u001b[0;34m\u001b[0m\u001b[0;34m\u001b[0m\u001b[0m\n\u001b[0;32m----> 3\u001b[0;31m     \u001b[0mtime\u001b[0m\u001b[0;34m.\u001b[0m\u001b[0msleep\u001b[0m\u001b[0;34m(\u001b[0m\u001b[0;36m5\u001b[0m\u001b[0;34m)\u001b[0m \u001b[0;31m# 5 seconds\u001b[0m\u001b[0;34m\u001b[0m\u001b[0;34m\u001b[0m\u001b[0m\n\u001b[0m",
      "\u001b[0;31mKeyboardInterrupt\u001b[0m: "
     ]
    }
   ],
   "source": [
    "# running the function every 5 seconds (no error - just interrupted)\n",
    "\n",
    "while(True):\n",
    "    check_price()\n",
    "    time.sleep(5) # 5 seconds (86400 = amount of seconds in a full day)"
   ]
  },
  {
   "cell_type": "code",
   "execution_count": 56,
   "id": "e486d890",
   "metadata": {},
   "outputs": [
    {
     "name": "stdout",
     "output_type": "stream",
     "text": [
      "                                Title  Price        Date\n",
      "0  THE NORTH FACE unisex-adult Beanie  28.95  2022-05-22\n",
      "1  THE NORTH FACE unisex-adult Beanie  28.95  2022-05-22\n",
      "2  THE NORTH FACE unisex-adult Beanie  28.95  2022-05-22\n",
      "3  THE NORTH FACE unisex-adult Beanie  28.95  2022-05-22\n",
      "4  THE NORTH FACE unisex-adult Beanie  28.95  2022-05-22\n",
      "5  THE NORTH FACE unisex-adult Beanie  28.95  2022-05-22\n",
      "6  THE NORTH FACE unisex-adult Beanie  28.95  2022-05-22\n"
     ]
    }
   ],
   "source": [
    "import pandas as pd\n",
    "\n",
    "df = pd.read_csv(r'/Users/davidrichardson/AmazonWebScraperDataset.csv')\n",
    "\n",
    "print(df)"
   ]
  },
  {
   "cell_type": "code",
   "execution_count": 57,
   "id": "b46784cc",
   "metadata": {},
   "outputs": [],
   "source": [
    "# Defining a function to send myself an email \n",
    "\n",
    "def send_mail():\n",
    "    server = smtplib.SMTP_SSL('smtp.gmail.com', 465)\n",
    "    server.ehlo()\n",
    "    #server.starttls()\n",
    "    server.ehlo()\n",
    "    server.login('david@gmail.com', 'xxxxxxxxx') #login credentials\n",
    "    \n",
    "    subject = \"The hat you want is below $20 ! Now is your chance to buy !\"\n",
    "    body = \"Hi David, it's David. The hat is on sale - buy it quick!\"\n",
    "    \n",
    "    msg = f\"Subject: {subject}/n/n{body}\"\n",
    "    \n",
    "    server.sendmail(\n",
    "        'david@gmail.com',\n",
    "        msg\n",
    "    \n",
    "    )"
   ]
  },
  {
   "cell_type": "code",
   "execution_count": null,
   "id": "31397747",
   "metadata": {},
   "outputs": [],
   "source": []
  }
 ],
 "metadata": {
  "kernelspec": {
   "display_name": "Python 3 (ipykernel)",
   "language": "python",
   "name": "python3"
  },
  "language_info": {
   "codemirror_mode": {
    "name": "ipython",
    "version": 3
   },
   "file_extension": ".py",
   "mimetype": "text/x-python",
   "name": "python",
   "nbconvert_exporter": "python",
   "pygments_lexer": "ipython3",
   "version": "3.9.7"
  }
 },
 "nbformat": 4,
 "nbformat_minor": 5
}
